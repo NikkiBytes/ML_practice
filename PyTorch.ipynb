{
 "cells": [
  {
   "cell_type": "markdown",
   "id": "76d0d842",
   "metadata": {},
   "source": [
    "# Pytorch Notes #1 \n",
    "\n",
    "Learning Objectives:  \n",
    "\n",
    "* Tensors 1D    \n",
    "* Two-Dimensional Tensors  \n",
    "* Data Set  \n",
    "* Differentiation in PyTorch  "
   ]
  },
  {
   "cell_type": "markdown",
   "id": "2595b88a",
   "metadata": {},
   "source": [
    "\n",
    "## Tensors  \n",
    "In Pytorch neural networks (NN) are composed of tensors, a data structure that is a generalization for numbers and dimensional arrays.  \n",
    "  \n",
    "In a NN, the input x is a tensor, the output y is a tensor, and the parameters involved are tensors. To get the results, the NN will perform a series of tensor operations in receiving input. Some of the tensor operations are generalizations of familiar mathematical operations like multiplication ond addition.  \n",
    "\n"
   ]
  }
 ],
 "metadata": {
  "kernelspec": {
   "display_name": "Python 3",
   "language": "python",
   "name": "python3"
  },
  "language_info": {
   "codemirror_mode": {
    "name": "ipython",
    "version": 3
   },
   "file_extension": ".py",
   "mimetype": "text/x-python",
   "name": "python",
   "nbconvert_exporter": "python",
   "pygments_lexer": "ipython3",
   "version": "3.8.10"
  }
 },
 "nbformat": 4,
 "nbformat_minor": 5
}
