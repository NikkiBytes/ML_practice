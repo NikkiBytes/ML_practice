{
 "cells": [
  {
   "cell_type": "code",
   "execution_count": 4,
   "metadata": {},
   "outputs": [
    {
     "name": "stdout",
     "output_type": "stream",
     "text": [
      "Mask nifti image (3D) is located at: /Users/nikkibytes/nilearn_data/haxby2001/mask.nii.gz\n",
      "Functional nifti image (4D) is located at: /Users/nikkibytes/nilearn_data/haxby2001/subj2/bold.nii.gz\n"
     ]
    },
    {
     "data": {
      "text/plain": [
       "{'anat': ['/Users/nikkibytes/nilearn_data/haxby2001/subj2/anat.nii.gz'],\n",
       " 'func': ['/Users/nikkibytes/nilearn_data/haxby2001/subj2/bold.nii.gz'],\n",
       " 'session_target': ['/Users/nikkibytes/nilearn_data/haxby2001/subj2/labels.txt'],\n",
       " 'mask_vt': ['/Users/nikkibytes/nilearn_data/haxby2001/subj2/mask4_vt.nii.gz'],\n",
       " 'mask_face': ['/Users/nikkibytes/nilearn_data/haxby2001/subj2/mask8b_face_vt.nii.gz'],\n",
       " 'mask_house': ['/Users/nikkibytes/nilearn_data/haxby2001/subj2/mask8b_house_vt.nii.gz'],\n",
       " 'mask_face_little': ['/Users/nikkibytes/nilearn_data/haxby2001/subj2/mask8_face_vt.nii.gz'],\n",
       " 'mask_house_little': ['/Users/nikkibytes/nilearn_data/haxby2001/subj2/mask8_house_vt.nii.gz'],\n",
       " 'mask': '/Users/nikkibytes/nilearn_data/haxby2001/mask.nii.gz',\n",
       " 'description': b'Haxby 2001 results\\n\\n\\nNotes\\n-----\\nResults from a classical fMRI study that investigated the differences between\\nthe neural correlates of face versus object processing in the ventral visual\\nstream. Face and object stimuli showed widely distributed and overlapping\\nresponse patterns.\\n\\nContent\\n-------\\nThe \"simple\" dataset includes\\n    :\\'func\\': Nifti images with bold data\\n    :\\'session_target\\': Text file containing session data\\n    :\\'mask\\': Nifti images with employed mask\\n    :\\'session\\': Text file with condition labels\\n\\n\\nThe full dataset additionally includes\\n    :\\'anat\\': Nifti images with anatomical image\\n    :\\'func\\': Nifti images with bold data\\n    :\\'mask_vt\\': Nifti images with mask for ventral visual/temporal cortex\\n    :\\'mask_face\\': Nifti images with face-reponsive brain regions\\n    :\\'mask_house\\': Nifti images with house-reponsive brain regions\\n    :\\'mask_face_little\\': Spatially more constrained version of the above\\n    :\\'mask_house_little\\': Spatially more constrained version of the above\\n\\n\\nReferences\\n----------\\nFor more information see:\\nPyMVPA provides a tutorial using this dataset :\\nhttp://www.pymvpa.org/tutorial.html\\n\\nMore informations about its structure :\\nhttp://dev.pymvpa.org/datadb/haxby2001.html\\n\\n\\n`Haxby, J., Gobbini, M., Furey, M., Ishai, A., Schouten, J.,\\nand Pietrini, P. (2001). Distributed and overlapping representations of\\nfaces and objects in ventral temporal cortex. Science 293, 2425-2430.`\\n\\n\\nLicence: unknown.\\n'}"
      ]
     },
     "execution_count": 4,
     "metadata": {},
     "output_type": "execute_result"
    }
   ],
   "source": [
    "from nilearn import datasets\n",
    "haxby_dataset = datasets.fetch_haxby()\n",
    "\n",
    "print('Mask nifti image (3D) is located at: %s' % haxby_dataset.mask)\n",
    "print('Functional nifti image (4D) is located at: %s' %\n",
    "      haxby_dataset.func[0])\n",
    "haxby_dataset\n"
   ]
  },
  {
   "cell_type": "code",
   "execution_count": 15,
   "metadata": {},
   "outputs": [
    {
     "name": "stdout",
     "output_type": "stream",
     "text": [
      "/Users/nikkibytes/nilearn_data/haxby2001/subj2/labels.txt\n"
     ]
    }
   ],
   "source": [
    "import pandas as pd\n",
    "\n",
    "# Load target information as string and give a numerical identifier to each\n",
    "behavioral = pd.read_csv(haxby_dataset.session_target[0], sep=\" \")\n",
    "conditions = behavioral['labels']\n",
    "\n",
    "print(haxby_dataset.session_target[0])\n"
   ]
  },
  {
   "cell_type": "code",
   "execution_count": 10,
   "metadata": {},
   "outputs": [
    {
     "name": "stdout",
     "output_type": "stream",
     "text": [
      "21       face\n",
      "22       face\n",
      "23       face\n",
      "24       face\n",
      "25       face\n",
      "26       face\n",
      "27       face\n",
      "28       face\n",
      "29       face\n",
      "63      house\n",
      "64      house\n",
      "65      house\n",
      "66      house\n",
      "67      house\n",
      "68      house\n",
      "69      house\n",
      "70      house\n",
      "71      house\n",
      "127      face\n",
      "128      face\n",
      "129      face\n",
      "130      face\n",
      "131      face\n",
      "132      face\n",
      "133      face\n",
      "134      face\n",
      "135      face\n",
      "227     house\n",
      "228     house\n",
      "229     house\n",
      "        ...  \n",
      "1294    house\n",
      "1295    house\n",
      "1296    house\n",
      "1302     face\n",
      "1303     face\n",
      "1304     face\n",
      "1305     face\n",
      "1306     face\n",
      "1307     face\n",
      "1308     face\n",
      "1309     face\n",
      "1310     face\n",
      "1352    house\n",
      "1353    house\n",
      "1354    house\n",
      "1355    house\n",
      "1356    house\n",
      "1357    house\n",
      "1358    house\n",
      "1359    house\n",
      "1360    house\n",
      "1394     face\n",
      "1395     face\n",
      "1396     face\n",
      "1397     face\n",
      "1398     face\n",
      "1399     face\n",
      "1400     face\n",
      "1401     face\n",
      "1402     face\n",
      "Name: labels, Length: 216, dtype: object\n"
     ]
    }
   ],
   "source": [
    "# Restrict the analysis to faces and places\n",
    "condition_mask = behavioral['labels'].isin(['face', 'house'])\n",
    "conditions = conditions[condition_mask]"
   ]
  },
  {
   "cell_type": "code",
   "execution_count": 12,
   "metadata": {},
   "outputs": [
    {
     "name": "stdout",
     "output_type": "stream",
     "text": [
      "['face' 'house']\n",
      "('labels', 'chunks')\n",
      "[('face',  0) ('face',  0) ('face',  0) ('face',  0) ('face',  0)\n",
      " ('face',  0) ('face',  0) ('face',  0) ('face',  0) ('house',  0)\n",
      " ('house',  0) ('house',  0) ('house',  0) ('house',  0) ('house',  0)\n",
      " ('house',  0) ('house',  0) ('house',  0) ('face',  1) ('face',  1)\n",
      " ('face',  1) ('face',  1) ('face',  1) ('face',  1) ('face',  1)\n",
      " ('face',  1) ('face',  1) ('house',  1) ('house',  1) ('house',  1)\n",
      " ('house',  1) ('house',  1) ('house',  1) ('house',  1) ('house',  1)\n",
      " ('house',  1) ('face',  2) ('face',  2) ('face',  2) ('face',  2)\n",
      " ('face',  2) ('face',  2) ('face',  2) ('face',  2) ('face',  2)\n",
      " ('house',  2) ('house',  2) ('house',  2) ('house',  2) ('house',  2)\n",
      " ('house',  2) ('house',  2) ('house',  2) ('house',  2) ('house',  3)\n",
      " ('house',  3) ('house',  3) ('house',  3) ('house',  3) ('house',  3)\n",
      " ('house',  3) ('house',  3) ('house',  3) ('face',  3) ('face',  3)\n",
      " ('face',  3) ('face',  3) ('face',  3) ('face',  3) ('face',  3)\n",
      " ('face',  3) ('face',  3) ('face',  4) ('face',  4) ('face',  4)\n",
      " ('face',  4) ('face',  4) ('face',  4) ('face',  4) ('face',  4)\n",
      " ('face',  4) ('house',  4) ('house',  4) ('house',  4) ('house',  4)\n",
      " ('house',  4) ('house',  4) ('house',  4) ('house',  4) ('house',  4)\n",
      " ('face',  5) ('face',  5) ('face',  5) ('face',  5) ('face',  5)\n",
      " ('face',  5) ('face',  5) ('face',  5) ('face',  5) ('house',  5)\n",
      " ('house',  5) ('house',  5) ('house',  5) ('house',  5) ('house',  5)\n",
      " ('house',  5) ('house',  5) ('house',  5) ('house',  6) ('house',  6)\n",
      " ('house',  6) ('house',  6) ('house',  6) ('house',  6) ('house',  6)\n",
      " ('house',  6) ('house',  6) ('face',  6) ('face',  6) ('face',  6)\n",
      " ('face',  6) ('face',  6) ('face',  6) ('face',  6) ('face',  6)\n",
      " ('face',  6) ('face',  7) ('face',  7) ('face',  7) ('face',  7)\n",
      " ('face',  7) ('face',  7) ('face',  7) ('face',  7) ('face',  7)\n",
      " ('house',  7) ('house',  7) ('house',  7) ('house',  7) ('house',  7)\n",
      " ('house',  7) ('house',  7) ('house',  7) ('house',  7) ('face',  8)\n",
      " ('face',  8) ('face',  8) ('face',  8) ('face',  8) ('face',  8)\n",
      " ('face',  8) ('face',  8) ('face',  8) ('house',  8) ('house',  8)\n",
      " ('house',  8) ('house',  8) ('house',  8) ('house',  8) ('house',  8)\n",
      " ('house',  8) ('house',  8) ('house',  9) ('house',  9) ('house',  9)\n",
      " ('house',  9) ('house',  9) ('house',  9) ('house',  9) ('house',  9)\n",
      " ('house',  9) ('face',  9) ('face',  9) ('face',  9) ('face',  9)\n",
      " ('face',  9) ('face',  9) ('face',  9) ('face',  9) ('face',  9)\n",
      " ('house', 10) ('house', 10) ('house', 10) ('house', 10) ('house', 10)\n",
      " ('house', 10) ('house', 10) ('house', 10) ('house', 10) ('face', 10)\n",
      " ('face', 10) ('face', 10) ('face', 10) ('face', 10) ('face', 10)\n",
      " ('face', 10) ('face', 10) ('face', 10) ('house', 11) ('house', 11)\n",
      " ('house', 11) ('house', 11) ('house', 11) ('house', 11) ('house', 11)\n",
      " ('house', 11) ('house', 11) ('face', 11) ('face', 11) ('face', 11)\n",
      " ('face', 11) ('face', 11) ('face', 11) ('face', 11) ('face', 11)\n",
      " ('face', 11)]\n"
     ]
    }
   ],
   "source": [
    "print(conditions.unique())\n",
    "\n",
    "# Record these as an array of sessions, with fields\n",
    "# for condition (face or house) and run\n",
    "session = behavioral[condition_mask].to_records(index=False)\n",
    "print(session.dtype.names)\n",
    "print(session)"
   ]
  },
  {
   "cell_type": "code",
   "execution_count": null,
   "metadata": {},
   "outputs": [],
   "source": []
  }
 ],
 "metadata": {
  "kernelspec": {
   "display_name": "Python 3",
   "language": "python",
   "name": "python3"
  },
  "language_info": {
   "codemirror_mode": {
    "name": "ipython",
    "version": 3
   },
   "file_extension": ".py",
   "mimetype": "text/x-python",
   "name": "python",
   "nbconvert_exporter": "python",
   "pygments_lexer": "ipython3",
   "version": "3.6.5"
  }
 },
 "nbformat": 4,
 "nbformat_minor": 2
}
