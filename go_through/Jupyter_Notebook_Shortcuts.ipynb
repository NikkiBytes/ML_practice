{
 "cells": [
  {
   "cell_type": "markdown",
   "metadata": {},
   "source": [
    "# Keyboard Shortcut Practice\n",
    "## Command vs. Edit Modes\n",
    "Jupyter notebooks have two different keyboard input modes:   \n",
    "I. Command mode - binds the keyboard to notebook level actions. Indicated by a grey border with a blue left margin.  \n",
    "II. Edit mode - when you're typing in a cell, indicated by a green cell border.  \n",
    "  \n",
    "If you're in command mode type enter to edit mode. If you're in edit mode, type esc to enter command mode."
   ]
  },
  {
   "cell_type": "code",
   "execution_count": null,
   "metadata": {},
   "outputs": [],
   "source": []
  }
 ],
 "metadata": {
  "kernelspec": {
   "display_name": "Python 3",
   "language": "python",
   "name": "python3"
  },
  "language_info": {
   "codemirror_mode": {
    "name": "ipython",
    "version": 3
   },
   "file_extension": ".py",
   "mimetype": "text/x-python",
   "name": "python",
   "nbconvert_exporter": "python",
   "pygments_lexer": "ipython3",
   "version": "3.6.5"
  }
 },
 "nbformat": 4,
 "nbformat_minor": 2
}
