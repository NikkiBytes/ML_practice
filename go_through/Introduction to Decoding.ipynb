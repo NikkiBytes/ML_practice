{
 "cells": [
  {
   "cell_type": "markdown",
   "metadata": {},
   "source": [
    "<h1> An Introduction to Decoding </h1>\n",
    "\n",
    "<u>Loading and Preparing the Data</u>\n",
    "\n",
    "fMRI: using beta maps of a first-level analysis\n",
    "\tMost cognitive experiments have a more complex temporal structure with rich sequences of events. \n",
    "\n",
    "The standard approach to decoding consists in fitting a first-level GLM to retrieve one response map(a beta map) per trial -- sometimes known as “beta-series regressions”. These maps can then be input to the decoder, predicting the conditions associated to trial.\n",
    "\n",
    "<b>It is strongly recommended that you fit a first level to include an HRF model and isolate the responses from various confounds.</b>\n"
   ]
  },
  {
   "cell_type": "markdown",
   "metadata": {},
   "source": [
    "<u>Loading the Data into Nilearn</u>  \n",
    "  \n",
    "<ol>\n",
    "    <li>Start an environment: Launch IPython via “ipython -matplotlib” in a terminal, or use the Jupyter Notebook</li>     <li>Retrieve Data</li>\n",
    "    <li>Load behavioral labels: Behavioral information is often stored in a text file (.CSV), and must be loaded with the numpy.recfromcsv or pandas</li>\n",
    "    <li>Extracting the fMRI data: we then use the nilearn.input_data.NiftiMasker: we extract only the voxels on the mask of the ventral temporal cortex that comes with the data, applying the mask_vt mask the the 4D fMRI data. The resulting data is then a matrix with a shape that is (n_timepoints, n_voxels)</li>\n",
    "    <li>Sample mask: Masking some of the time points may be useful to restrict a specific pair conditions.</li>\n",
    "  </ol>\n"
   ]
  },
  {
   "cell_type": "markdown",
   "metadata": {},
   "source": [
    "<u>Performing a simple decoding analysis</u>  \n",
    "The prediction engine - An estimator object: to perform decoding we need to use an estimator from the scikit-learn machine learning library. This object can predict a conditional label y given a set X of imaging data.   \n",
    "Applying it to data: fit (train) and predict (test)-\n",
    "A *fit* function that learns the parameters of the model from the data. Need to give training data to fit.  \n",
    "A *predict* function that predicts a target from new data. Give new set of data.   \n",
    "*<b>Do not predict on data used to fit</b>*  \n",
    "\n",
    "<u>Measuring prediction performance</u>  \n",
    "Cross-validation-  \n",
    "\tWe cannot measure a prediction error on the same set of data that we have used to fit the estimator: it would be much easier than on new data, and the result would be meaningless. We need to use a technique call cross-validation to split the data into different sets, called “folds”, in a K-Fold strategy.\n"
   ]
  },
  {
   "cell_type": "markdown",
   "metadata": {},
   "source": [
    "There is a function in sklearn that computes for you the score for the different folds of cross-validation: "
   ]
  },
  {
   "cell_type": "code",
   "execution_count": 1,
   "metadata": {},
   "outputs": [
    {
     "ename": "NameError",
     "evalue": "name 'svc' is not defined",
     "output_type": "error",
     "traceback": [
      "\u001b[0;31m---------------------------------------------------------------------------\u001b[0m",
      "\u001b[0;31mNameError\u001b[0m                                 Traceback (most recent call last)",
      "\u001b[0;32m<ipython-input-1-e837e6d5ed37>\u001b[0m in \u001b[0;36m<module>\u001b[0;34m()\u001b[0m\n\u001b[1;32m      1\u001b[0m \u001b[0;32mfrom\u001b[0m \u001b[0msklearn\u001b[0m\u001b[0;34m.\u001b[0m\u001b[0mmodel_selection\u001b[0m \u001b[0;32mimport\u001b[0m \u001b[0mcross_val_score\u001b[0m\u001b[0;34m\u001b[0m\u001b[0m\n\u001b[0;32m----> 2\u001b[0;31m \u001b[0mcv_scores\u001b[0m \u001b[0;34m=\u001b[0m \u001b[0mcross_val_score\u001b[0m\u001b[0;34m(\u001b[0m\u001b[0msvc\u001b[0m\u001b[0;34m,\u001b[0m \u001b[0mfmri_masked\u001b[0m\u001b[0;34m,\u001b[0m \u001b[0mtarget\u001b[0m\u001b[0;34m,\u001b[0m \u001b[0mcv\u001b[0m\u001b[0;34m=\u001b[0m\u001b[0;36m5\u001b[0m\u001b[0;34m)\u001b[0m\u001b[0;34m\u001b[0m\u001b[0m\n\u001b[0m",
      "\u001b[0;31mNameError\u001b[0m: name 'svc' is not defined"
     ]
    }
   ],
   "source": [
    "from sklearn.model_selection import cross_val_score \n",
    "cv_scores = cross_val_score(svc, fmri_masked, target, cv=5)  \n"
   ]
  },
  {
   "cell_type": "code",
   "execution_count": null,
   "metadata": {},
   "outputs": [],
   "source": []
  }
 ],
 "metadata": {
  "kernelspec": {
   "display_name": "Python 3",
   "language": "python",
   "name": "python3"
  },
  "language_info": {
   "codemirror_mode": {
    "name": "ipython",
    "version": 3
   },
   "file_extension": ".py",
   "mimetype": "text/x-python",
   "name": "python",
   "nbconvert_exporter": "python",
   "pygments_lexer": "ipython3",
   "version": "3.6.5"
  }
 },
 "nbformat": 4,
 "nbformat_minor": 2
}
