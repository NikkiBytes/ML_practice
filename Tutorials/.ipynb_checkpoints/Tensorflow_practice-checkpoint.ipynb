{
 "cells": [
  {
   "cell_type": "markdown",
   "id": "c382c966-d1f4-48ba-ab71-56b822b78128",
   "metadata": {},
   "source": [
    "# Tensorflow Practice  \n",
    "\n",
    "  \n"
   ]
  },
  {
   "cell_type": "code",
   "execution_count": 2,
   "id": "5298c28f-c152-4db0-b6f8-88998950d225",
   "metadata": {},
   "outputs": [
    {
     "name": "stdout",
     "output_type": "stream",
     "text": [
      "2.3.0\n"
     ]
    }
   ],
   "source": [
    "import tensorflow as tf \n",
    "print(tf.__version__)"
   ]
  },
  {
   "cell_type": "markdown",
   "id": "578690cd-b557-4e53-8317-6aed2a7a3c3f",
   "metadata": {},
   "source": [
    "## Basic operations with TensorFlow"
   ]
  },
  {
   "cell_type": "code",
   "execution_count": 3,
   "id": "4cbff41f-0410-45a7-bae4-5ed8a55b4b8f",
   "metadata": {},
   "outputs": [
    {
     "data": {
      "text/plain": [
       "\u001b[1;31mSignature:\u001b[0m \u001b[0mtf\u001b[0m\u001b[1;33m.\u001b[0m\u001b[0msquare\u001b[0m\u001b[1;33m(\u001b[0m\u001b[0mx\u001b[0m\u001b[1;33m,\u001b[0m \u001b[0mname\u001b[0m\u001b[1;33m=\u001b[0m\u001b[1;32mNone\u001b[0m\u001b[1;33m)\u001b[0m\u001b[1;33m\u001b[0m\u001b[1;33m\u001b[0m\u001b[0m\n",
       "\u001b[1;31mDocstring:\u001b[0m\n",
       "Computes square of x element-wise.\n",
       "\n",
       "I.e., \\\\(y = x * x = x^2\\\\).\n",
       "\n",
       ">>> tf.math.square([-2., 0., 3.])\n",
       "<tf.Tensor: shape=(3,), dtype=float32, numpy=array([4., 0., 9.], dtype=float32)>\n",
       "\n",
       "Args:\n",
       "  x: A `Tensor`. Must be one of the following types: `bfloat16`, `half`, `float32`, `float64`, `int8`, `int16`, `int32`, `int64`, `complex64`, `complex128`.\n",
       "  name: A name for the operation (optional).\n",
       "\n",
       "Returns:\n",
       "  A `Tensor`. Has the same type as `x`.\n",
       "\n",
       "  If `x` is a `SparseTensor`, returns\n",
       "  `SparseTensor(x.indices, tf.math.square(x.values, ...), x.dense_shape)`\n",
       "\u001b[1;31mFile:\u001b[0m      c:\\users\\19802\\anaconda3\\lib\\site-packages\\tensorflow\\python\\ops\\gen_math_ops.py\n",
       "\u001b[1;31mType:\u001b[0m      function\n"
      ]
     },
     "metadata": {},
     "output_type": "display_data"
    }
   ],
   "source": [
    "?tf.square"
   ]
  },
  {
   "cell_type": "code",
   "execution_count": 4,
   "id": "dd3fa6ce-58d0-44cb-b80b-caf61c4ddfda",
   "metadata": {},
   "outputs": [
    {
     "name": "stdout",
     "output_type": "stream",
     "text": [
      "a:  (4+2j) b:  (6+7j) \n",
      "\n",
      "a-b:  (-2-5j) \n",
      "\n",
      "a*b:  (10+40j) \n",
      "\n",
      "c:  (10+9j) \n",
      "\n",
      "tf.Tensor((19+180j), shape=(), dtype=complex128) \n",
      "\n"
     ]
    }
   ],
   "source": [
    "a = 4 + 2j # COMPLEX NUMBER  \n",
    "b = 6 + 7j\n",
    "\n",
    "print(\"a: \", a, \"b: \", b, '\\n')\n",
    "\n",
    "print(\"a-b: \", a-b, '\\n')\n",
    "print(\"a*b: \", a*b, '\\n')\n",
    "\n",
    "c = a + b\n",
    "\n",
    "print(\"c: \", c, '\\n')\n",
    "\n",
    "d = tf.square(c)\n",
    "print(d, '\\n')"
   ]
  },
  {
   "cell_type": "markdown",
   "id": "a1abfd5b-a6ae-4fbb-b28b-8ffdc304d73d",
   "metadata": {},
   "source": [
    "### Tensors  \n",
    "Tensors are an array of numbers arranged in space. We can call a vector (1-D array) as a 1st order tensor and matrix(2-D Array) as a 2nd order tensor and so on. "
   ]
  },
  {
   "cell_type": "code",
   "execution_count": 5,
   "id": "90d6dbb9-e3e7-4124-84b2-56fea7e6cafa",
   "metadata": {},
   "outputs": [
    {
     "name": "stdout",
     "output_type": "stream",
     "text": [
      "Elements: \n",
      " tf.Tensor(\n",
      "[[1.4 2.  2. ]\n",
      " [8.  2.  5. ]], shape=(2, 3), dtype=float32)\n"
     ]
    }
   ],
   "source": [
    "c = tf.constant([[1.4, 2.0, 2], [8, 2, 5]])\n",
    "print(\"Elements: \\n\", c)"
   ]
  },
  {
   "cell_type": "markdown",
   "id": "ca0d9d9e-6a37-4d44-a408-b94b04c7f76a",
   "metadata": {},
   "source": [
    "* You can get its value as a Numpy array, by calling `.numpy()`"
   ]
  },
  {
   "cell_type": "code",
   "execution_count": 6,
   "id": "354e4091-92a3-4055-a800-a0e2e5aed303",
   "metadata": {},
   "outputs": [
    {
     "name": "stdout",
     "output_type": "stream",
     "text": [
      "[[1 2 2]\n",
      " [8 2 5]]\n"
     ]
    },
    {
     "data": {
      "text/plain": [
       "array([[1.4, 2. , 2. ],\n",
       "       [8. , 2. , 5. ]], dtype=float32)"
      ]
     },
     "execution_count": 6,
     "metadata": {},
     "output_type": "execute_result"
    }
   ],
   "source": [
    "import numpy as np\n",
    "y = np.array([[1,2,2], [8, 2, 5]])\n",
    "print(y)\n",
    "# we can also convert a tensor into a numpy array by using .numpy()\n",
    "c.numpy() "
   ]
  },
  {
   "cell_type": "markdown",
   "id": "4c568ad3-ccf5-4ba1-b134-4ac0a18f2dee",
   "metadata": {},
   "source": [
    "We can get the dimensions and the datatype of the a tf.tensor as demonstrated below- "
   ]
  },
  {
   "cell_type": "code",
   "execution_count": 7,
   "id": "18d04ad8-5da7-44be-a44e-96303089b30e",
   "metadata": {},
   "outputs": [
    {
     "name": "stdout",
     "output_type": "stream",
     "text": [
      "Tensor Data Type <dtype: 'float32'>\n",
      "Tensor Dimension:  2\n",
      "Tensor Shape (2, 3)\n"
     ]
    }
   ],
   "source": [
    "print('Tensor Data Type', c.dtype)\n",
    "print('Tensor Dimension: ', c.ndim)\n",
    "print('Tensor Shape', c.shape)"
   ]
  },
  {
   "cell_type": "markdown",
   "id": "9521e47c-ae1f-4be0-a352-3e08f4ca21e3",
   "metadata": {},
   "source": [
    "### Variables with tf.Variable()  \n",
    "**A tensorflow Variable is a tensor that is used to store value that can later be updated.** You need to initalize a variable with some value at the time of creation. "
   ]
  },
  {
   "cell_type": "code",
   "execution_count": 12,
   "id": "a8426238-4d01-49ed-8589-d48268df9f8c",
   "metadata": {},
   "outputs": [
    {
     "name": "stdout",
     "output_type": "stream",
     "text": [
      "[INFO] type:  <class 'tensorflow.python.framework.ops.EagerTensor'>\n",
      "[INFO] random_variable:  tf.Tensor(\n",
      "[[1. 1. 1.]\n",
      " [1. 1. 1.]\n",
      " [1. 1. 1.]], shape=(3, 3), dtype=float32) \n",
      "\n",
      "[INFO] type:  <class 'tensorflow.python.ops.resource_variable_ops.ResourceVariable'>\n",
      "<tf.Variable 'Variable:0' shape=(3, 3) dtype=float32, numpy=\n",
      "array([[1., 1., 1.],\n",
      "       [1., 1., 1.],\n",
      "       [1., 1., 1.]], dtype=float32)> \n",
      "\n",
      "<tf.Variable 'Variable:0' shape=(3, 3) dtype=float32, numpy=\n",
      "array([[0., 0., 0.],\n",
      "       [0., 0., 0.],\n",
      "       [0., 0., 0.]], dtype=float32)>\n"
     ]
    }
   ],
   "source": [
    "random_variable = tf.ones(shape=(3,3))\n",
    "\n",
    "print(\"[INFO] type: \", type(random_variable))\n",
    "print(\"[INFO] random_variable: \", random_variable, \"\\n\")\n",
    "\n",
    "# random variable\n",
    "tf_variable = tf.Variable(random_variable)\n",
    "print(\"[INFO] type: \", type(tf_variable))\n",
    "print(tf_variable, '\\n')\n",
    "\n",
    "# you can now update the values of the variable\n",
    "tf_variable.assign(tf.zeros(shape=(3,3)))\n",
    "print(tf_variable)"
   ]
  },
  {
   "cell_type": "markdown",
   "id": "cfec727e-be15-4af7-b6b8-fee74a0352a5",
   "metadata": {},
   "source": [
    "---"
   ]
  },
  {
   "cell_type": "markdown",
   "id": "793b6392-4210-4c6c-b72d-2e6e688d2494",
   "metadata": {},
   "source": [
    "### GradientTapeGradientTape:  \n",
    "The **[\\`GradientTape\\`]** which is used to record operations for automatic differentiation.  \n",
    "[YouTube Video on GradientTape](https://www.youtube.com/watch?v=tDG52BjkGUY)"
   ]
  },
  {
   "cell_type": "code",
   "execution_count": 13,
   "id": "d924df60-1ebc-4ed5-a2d7-05164a91dd3b",
   "metadata": {},
   "outputs": [
    {
     "name": "stdout",
     "output_type": "stream",
     "text": [
      "[INFO] dy_dx:  tf.Tensor(18.0, shape=(), dtype=float32)\n"
     ]
    }
   ],
   "source": [
    "# computing derivative for the function 3x^2 at x = 3  \n",
    "\n",
    "\n",
    "x = tf.constant(3.0) # gradient at  \n",
    "\n",
    "with tf.GradientTape() as g: \n",
    "    g.watch(x) # record the operations  \n",
    "    y = 3* x**2\n",
    "    \n",
    "dy_dx=g.gradient(y, x)\n",
    "print(\"[INFO] dy_dx: \", dy_dx)"
   ]
  },
  {
   "cell_type": "code",
   "execution_count": 14,
   "id": "40957abf-2a47-4421-9c0b-468c2294b5ab",
   "metadata": {},
   "outputs": [
    {
     "name": "stdout",
     "output_type": "stream",
     "text": [
      "[INFO] d2y_d2x:  tf.Tensor(96.0, shape=(), dtype=float32)\n"
     ]
    }
   ],
   "source": [
    "# We can also use nested GradientTape() for the second derivative \n",
    "# computing second derivative for thet function 4x^3 at x = 4.0  \n",
    "\n",
    "x = tf.constant(4.0)\n",
    "with tf.GradientTape() as gt:\n",
    "    gt.watch(x)\n",
    "    with tf.GradientTape() as g:\n",
    "        g.watch(x)  \n",
    "        y=4* x**3  \n",
    "        \n",
    "    dy_dx = g.gradient(y, x)\n",
    "d2y_d2x=gt.gradient(dy_dx, x)\n",
    "print(\"[INFO] d2y_d2x: \", d2y_d2x)"
   ]
  },
  {
   "cell_type": "markdown",
   "id": "32989115-3490-4cad-bcf8-f1a833e3a9ee",
   "metadata": {},
   "source": [
    "### Practice Questions\n"
   ]
  },
  {
   "cell_type": "markdown",
   "id": "0cbd97ba-acd5-4106-9da6-e830a0e76547",
   "metadata": {},
   "source": [
    "**1.Create a constant tensor array 'x' like [2,3,4] and find element wise e^x. Refer to the website [here](https://www.tensorflow.org/api_docs/python/tf/math/exp).**\n"
   ]
  },
  {
   "cell_type": "code",
   "execution_count": null,
   "id": "45841758-1c98-4aa1-b30a-fc337ef8f901",
   "metadata": {},
   "outputs": [],
   "source": []
  },
  {
   "cell_type": "markdown",
   "id": "d93f2eaa-458f-46fa-b7c2-31c24b12c2be",
   "metadata": {},
   "source": [
    "**2. Declare a variable with a 3*2 shaped floating elements array with elements picked from a random normal distributions.**"
   ]
  },
  {
   "cell_type": "code",
   "execution_count": null,
   "id": "5ff950da-79c9-4d54-8a07-0244e8fe409c",
   "metadata": {},
   "outputs": [],
   "source": []
  },
  {
   "cell_type": "markdown",
   "id": "1cbaa476-487f-48b5-870b-1cb0dd660b77",
   "metadata": {},
   "source": [
    "**3. Subtract 1 from every element of the above matrix.**"
   ]
  },
  {
   "cell_type": "code",
   "execution_count": null,
   "id": "85f6ca51-9ed9-42d0-9964-6865326b373e",
   "metadata": {},
   "outputs": [],
   "source": []
  },
  {
   "cell_type": "markdown",
   "id": "0ce5834c-9058-47ae-8d64-8ab71642d103",
   "metadata": {},
   "source": [
    "**4. Calculate the third derivative of the function 4x^3 + x^2 + 1 at x = 1**"
   ]
  },
  {
   "cell_type": "code",
   "execution_count": null,
   "id": "05e56179-724d-4edb-8b5e-c238eafed870",
   "metadata": {},
   "outputs": [],
   "source": [
    "#your code here\n",
    "x = tf.constant(1.0) "
   ]
  },
  {
   "cell_type": "markdown",
   "id": "27d5d708-9d23-4025-8f5e-b2a30054710d",
   "metadata": {},
   "source": [
    "**5. Calculate dot product of matrices [[1,2,3],[4,5,6],[7,8,9]] and [[1],[2],[3]] using tensorflow functions. Also, find the element wise multiplication of the two.**"
   ]
  },
  {
   "cell_type": "code",
   "execution_count": null,
   "id": "4f93461b-d2ed-4556-ac82-01986729ec85",
   "metadata": {},
   "outputs": [],
   "source": [
    "#your code here for dot product\n",
    "a = tf.constant([[1,2,3],[4,5,6],[7,8,9]])\n",
    "b = tf.constant([[1],[2],[3]])"
   ]
  },
  {
   "cell_type": "code",
   "execution_count": null,
   "id": "98de07c9-fcf6-49cd-906f-83d775b7fc2c",
   "metadata": {},
   "outputs": [],
   "source": []
  },
  {
   "cell_type": "markdown",
   "id": "c0cc8c63-e3bd-41cd-9651-cd48edc65e78",
   "metadata": {},
   "source": [
    "https://www.kaggle.com/aggarwalrahul/dl-intro-to-nn-tensorflow-basics"
   ]
  },
  {
   "cell_type": "markdown",
   "id": "68158527-7dac-4cad-867b-f1e6a54319a5",
   "metadata": {},
   "source": [
    "---"
   ]
  }
 ],
 "metadata": {
  "kernelspec": {
   "display_name": "Python 3",
   "language": "python",
   "name": "python3"
  },
  "language_info": {
   "codemirror_mode": {
    "name": "ipython",
    "version": 3
   },
   "file_extension": ".py",
   "mimetype": "text/x-python",
   "name": "python",
   "nbconvert_exporter": "python",
   "pygments_lexer": "ipython3",
   "version": "3.8.10"
  }
 },
 "nbformat": 4,
 "nbformat_minor": 5
}
