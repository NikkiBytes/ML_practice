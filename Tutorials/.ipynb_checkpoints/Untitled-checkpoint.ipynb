{
 "cells": [
  {
   "cell_type": "markdown",
   "id": "c382c966-d1f4-48ba-ab71-56b822b78128",
   "metadata": {},
   "source": [
    "# Tensorflow Practice  \n",
    "\n",
    "  \n"
   ]
  },
  {
   "cell_type": "code",
   "execution_count": 1,
   "id": "5298c28f-c152-4db0-b6f8-88998950d225",
   "metadata": {},
   "outputs": [
    {
     "name": "stdout",
     "output_type": "stream",
     "text": [
      "2.3.0\n"
     ]
    }
   ],
   "source": [
    "import tensorflow as tf \n",
    "print(tf.__version__)"
   ]
  },
  {
   "cell_type": "markdown",
   "id": "578690cd-b557-4e53-8317-6aed2a7a3c3f",
   "metadata": {},
   "source": [
    "## Basic operations with TensorFlow"
   ]
  },
  {
   "cell_type": "code",
   "execution_count": 2,
   "id": "4cbff41f-0410-45a7-bae4-5ed8a55b4b8f",
   "metadata": {},
   "outputs": [
    {
     "data": {
      "text/plain": [
       "\u001b[1;31mSignature:\u001b[0m \u001b[0mtf\u001b[0m\u001b[1;33m.\u001b[0m\u001b[0msquare\u001b[0m\u001b[1;33m(\u001b[0m\u001b[0mx\u001b[0m\u001b[1;33m,\u001b[0m \u001b[0mname\u001b[0m\u001b[1;33m=\u001b[0m\u001b[1;32mNone\u001b[0m\u001b[1;33m)\u001b[0m\u001b[1;33m\u001b[0m\u001b[1;33m\u001b[0m\u001b[0m\n",
       "\u001b[1;31mDocstring:\u001b[0m\n",
       "Computes square of x element-wise.\n",
       "\n",
       "I.e., \\\\(y = x * x = x^2\\\\).\n",
       "\n",
       ">>> tf.math.square([-2., 0., 3.])\n",
       "<tf.Tensor: shape=(3,), dtype=float32, numpy=array([4., 0., 9.], dtype=float32)>\n",
       "\n",
       "Args:\n",
       "  x: A `Tensor`. Must be one of the following types: `bfloat16`, `half`, `float32`, `float64`, `int8`, `int16`, `int32`, `int64`, `complex64`, `complex128`.\n",
       "  name: A name for the operation (optional).\n",
       "\n",
       "Returns:\n",
       "  A `Tensor`. Has the same type as `x`.\n",
       "\n",
       "  If `x` is a `SparseTensor`, returns\n",
       "  `SparseTensor(x.indices, tf.math.square(x.values, ...), x.dense_shape)`\n",
       "\u001b[1;31mFile:\u001b[0m      c:\\users\\19802\\anaconda3\\lib\\site-packages\\tensorflow\\python\\ops\\gen_math_ops.py\n",
       "\u001b[1;31mType:\u001b[0m      function\n"
      ]
     },
     "metadata": {},
     "output_type": "display_data"
    }
   ],
   "source": [
    "?tf.square"
   ]
  },
  {
   "cell_type": "code",
   "execution_count": 7,
   "id": "dd3fa6ce-58d0-44cb-b80b-caf61c4ddfda",
   "metadata": {},
   "outputs": [
    {
     "name": "stdout",
     "output_type": "stream",
     "text": [
      "a:  (4+2j) b:  (6+7j) \n",
      "\n",
      "a-b:  (-2-5j) \n",
      "\n",
      "a*b:  (10+40j) \n",
      "\n",
      "c:  (10+9j) \n",
      "\n",
      "tf.Tensor((19+180j), shape=(), dtype=complex128) \n",
      "\n"
     ]
    }
   ],
   "source": [
    "a = 4 + 2j # COMPLEX NUMBER  \n",
    "b = 6 + 7j\n",
    "\n",
    "print(\"a: \", a, \"b: \", b, '\\n')\n",
    "\n",
    "print(\"a-b: \", a-b, '\\n')\n",
    "print(\"a*b: \", a*b, '\\n')\n",
    "\n",
    "c = a + b\n",
    "\n",
    "print(\"c: \", c, '\\n')\n",
    "\n",
    "d = tf.square(c)\n",
    "print(d, '\\n')"
   ]
  },
  {
   "cell_type": "markdown",
   "id": "a1abfd5b-a6ae-4fbb-b28b-8ffdc304d73d",
   "metadata": {},
   "source": [
    "### Tensors  \n",
    "Tensors are an array of numbers arranged in space. We can call a vector (1-D array) as a 1st order tensor and matrix(2-D Array) as a 2nd order tensor and so on. "
   ]
  },
  {
   "cell_type": "code",
   "execution_count": 9,
   "id": "90d6dbb9-e3e7-4124-84b2-56fea7e6cafa",
   "metadata": {},
   "outputs": [
    {
     "name": "stdout",
     "output_type": "stream",
     "text": [
      "Elements: \n",
      " tf.Tensor(\n",
      "[[1.4 2.  2. ]\n",
      " [8.  2.  5. ]], shape=(2, 3), dtype=float32)\n"
     ]
    }
   ],
   "source": [
    "c = tf.constant([[1.4, 2.0, 2], [8, 2, 5]])\n",
    "print(\"Elements: \\n\", c)"
   ]
  },
  {
   "cell_type": "markdown",
   "id": "ca0d9d9e-6a37-4d44-a408-b94b04c7f76a",
   "metadata": {},
   "source": [
    "* You can get its value as a Numpy array, by calling `.numpy()`"
   ]
  },
  {
   "cell_type": "code",
   "execution_count": 11,
   "id": "354e4091-92a3-4055-a800-a0e2e5aed303",
   "metadata": {},
   "outputs": [
    {
     "name": "stdout",
     "output_type": "stream",
     "text": [
      "[[1 2 2]\n",
      " [8 2 5]]\n"
     ]
    },
    {
     "data": {
      "text/plain": [
       "array([[1.4, 2. , 2. ],\n",
       "       [8. , 2. , 5. ]], dtype=float32)"
      ]
     },
     "execution_count": 11,
     "metadata": {},
     "output_type": "execute_result"
    }
   ],
   "source": [
    "import numpy as np\n",
    "y = np.array([[1,2,2], [8, 2, 5]])\n",
    "print(y)\n",
    "# we can also convert a tensor into a numpy array by using .numpy()\n",
    "c.numpy() "
   ]
  },
  {
   "cell_type": "markdown",
   "id": "4c568ad3-ccf5-4ba1-b134-4ac0a18f2dee",
   "metadata": {},
   "source": [
    "We can get the dimensions and the datatype of the a tf.tensor as demonstrated below- "
   ]
  },
  {
   "cell_type": "code",
   "execution_count": 12,
   "id": "18d04ad8-5da7-44be-a44e-96303089b30e",
   "metadata": {},
   "outputs": [
    {
     "name": "stdout",
     "output_type": "stream",
     "text": [
      "Tensor Data Type <dtype: 'float32'>\n",
      "Tensor Dimension:  2\n",
      "Tensor Shape (2, 3)\n"
     ]
    }
   ],
   "source": [
    "print('Tensor Data Type', c.dtype)\n",
    "print('Tensor Dimension: ', c.ndim)\n",
    "print('Tensor Shape', c.shape)"
   ]
  },
  {
   "cell_type": "code",
   "execution_count": null,
   "id": "448efae1-446d-4158-93c9-2f7552c6c065",
   "metadata": {},
   "outputs": [],
   "source": []
  },
  {
   "cell_type": "code",
   "execution_count": null,
   "id": "08f9ff4d-74de-46ae-b72f-5025c8828f8f",
   "metadata": {},
   "outputs": [],
   "source": []
  }
 ],
 "metadata": {
  "kernelspec": {
   "display_name": "Python 3",
   "language": "python",
   "name": "python3"
  },
  "language_info": {
   "codemirror_mode": {
    "name": "ipython",
    "version": 3
   },
   "file_extension": ".py",
   "mimetype": "text/x-python",
   "name": "python",
   "nbconvert_exporter": "python",
   "pygments_lexer": "ipython3",
   "version": "3.8.10"
  }
 },
 "nbformat": 4,
 "nbformat_minor": 5
}
