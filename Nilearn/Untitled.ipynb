{
 "cells": [
  {
   "cell_type": "markdown",
   "metadata": {},
   "source": [
    "# Visualization with Nilearn\n",
    "\n"
   ]
  },
  {
   "cell_type": "markdown",
   "metadata": {},
   "source": [
    "## 4D Probablistic Atlas Maps\n",
    "\n",
    "Three display types:\n",
    "1. \"Contours\" - maps or ROIs are shown as contour delineated by colored lines.  \n",
    "2. \"Filled Contours\" - maps are shown as contours but with filling inside the contours.\n",
    "3. \"Continuous\" - maps are shown as just color overlays "
   ]
  },
  {
   "cell_type": "code",
   "execution_count": 1,
   "metadata": {},
   "outputs": [
    {
     "name": "stderr",
     "output_type": "stream",
     "text": [
      "/Users/nikkibytes/anaconda3/lib/python3.6/site-packages/h5py/__init__.py:36: FutureWarning: Conversion of the second argument of issubdtype from `float` to `np.floating` is deprecated. In future, it will be treated as `np.float64 == np.dtype(float).type`.\n",
      "  from ._conv import register_converters as _register_converters\n"
     ]
    },
    {
     "name": "stdout",
     "output_type": "stream",
     "text": [
      "\n",
      "Dataset created in /Users/nikkibytes/nilearn_data/fsl\n",
      "\n",
      "Downloading data from http://www.nitrc.org/frs/download.php/9902/HarvardOxford.tgz ...\n"
     ]
    },
    {
     "name": "stderr",
     "output_type": "stream",
     "text": [
      "Downloaded 25716861 of 25716861 bytes (100.0%,    0.0s remaining) ...done. (9 seconds, 0 min)\n",
      "Extracting data from /Users/nikkibytes/nilearn_data/fsl/e84ad0263d578b399912ab057c50aa50/HarvardOxford.tgz..... done.\n"
     ]
    },
    {
     "name": "stdout",
     "output_type": "stream",
     "text": [
      "\n",
      "Dataset created in /Users/nikkibytes/nilearn_data/msdl_atlas\n",
      "\n",
      "Downloading data from https://team.inria.fr/parietal/files/2015/01/MSDL_rois.zip ...\n"
     ]
    },
    {
     "name": "stderr",
     "output_type": "stream",
     "text": [
      "Downloaded 209734 of 209734 bytes (100.0%,    0.0s remaining) ...done. (2 seconds, 0 min)\n",
      "Extracting data from /Users/nikkibytes/nilearn_data/msdl_atlas/5d25e157f36214b8ca9a12fd417aac1c/MSDL_rois.zip..... done.\n",
      "/Users/nikkibytes/anaconda3/lib/python3.6/site-packages/numpy/lib/npyio.py:2266: VisibleDeprecationWarning: Reading unicode strings without specifying the encoding argument is deprecated. Set the encoding, use None for the system default.\n",
      "  output = genfromtxt(fname, **kwargs)\n"
     ]
    },
    {
     "name": "stdout",
     "output_type": "stream",
     "text": [
      "\n",
      "Dataset created in /Users/nikkibytes/nilearn_data/smith_2009\n",
      "\n",
      "Downloading data from http://www.fmrib.ox.ac.uk/datasets/brainmap+rsns/rsn20.nii.gz ...\n"
     ]
    },
    {
     "name": "stderr",
     "output_type": "stream",
     "text": [
      "Downloaded 15129514 of 15129514 bytes (100.0%,    0.0s remaining) ...done. (3 seconds, 0 min)\n"
     ]
    },
    {
     "name": "stdout",
     "output_type": "stream",
     "text": [
      "Downloading data from http://www.fmrib.ox.ac.uk/datasets/brainmap+rsns/PNAS_Smith09_rsn10.nii.gz ...\n"
     ]
    },
    {
     "name": "stderr",
     "output_type": "stream",
     "text": [
      "Downloaded 7565016 of 7565016 bytes (100.0%,    0.0s remaining) ...done. (2 seconds, 0 min)\n"
     ]
    },
    {
     "name": "stdout",
     "output_type": "stream",
     "text": [
      "Downloading data from http://www.fmrib.ox.ac.uk/datasets/brainmap+rsns/rsn70.nii.gz ...\n"
     ]
    },
    {
     "name": "stderr",
     "output_type": "stream",
     "text": [
      "Downloaded 53028809 of 53028809 bytes (100.0%,    0.0s remaining) ...done. (12 seconds, 0 min)\n"
     ]
    },
    {
     "name": "stdout",
     "output_type": "stream",
     "text": [
      "Downloading data from http://www.fmrib.ox.ac.uk/datasets/brainmap+rsns/bm20.nii.gz ...\n"
     ]
    },
    {
     "name": "stderr",
     "output_type": "stream",
     "text": [
      "Downloaded 19114114 of 19114114 bytes (100.0%,    0.0s remaining) ...done. (5 seconds, 0 min)\n"
     ]
    },
    {
     "name": "stdout",
     "output_type": "stream",
     "text": [
      "Downloading data from http://www.fmrib.ox.ac.uk/datasets/brainmap+rsns/PNAS_Smith09_bm10.nii.gz ...\n"
     ]
    },
    {
     "name": "stderr",
     "output_type": "stream",
     "text": [
      "Downloaded 9566632 of 9566632 bytes (100.0%,    0.0s remaining) ...done. (3 seconds, 0 min)\n"
     ]
    },
    {
     "name": "stdout",
     "output_type": "stream",
     "text": [
      "Downloading data from http://www.fmrib.ox.ac.uk/datasets/brainmap+rsns/bm70.nii.gz ...\n"
     ]
    },
    {
     "name": "stderr",
     "output_type": "stream",
     "text": [
      "Downloaded 67017538 of 67017538 bytes (100.0%,    0.0s remaining) ...done. (11 seconds, 0 min)\n"
     ]
    },
    {
     "name": "stdout",
     "output_type": "stream",
     "text": [
      "\n",
      "Dataset created in /Users/nikkibytes/nilearn_data/icbm152_2009\n",
      "\n",
      "Downloading data from http://www.bic.mni.mcgill.ca/~vfonov/icbm/2009/mni_icbm152_nlin_sym_09a_nifti.zip ...\n"
     ]
    },
    {
     "name": "stderr",
     "output_type": "stream",
     "text": [
      "Downloaded 63116438 of 63116438 bytes (100.0%,    0.0s remaining) ...done. (102 seconds, 1 min)\n",
      "Extracting data from /Users/nikkibytes/nilearn_data/icbm152_2009/6f7789dc5278e29886939666a6657dbc/mni_icbm152_nlin_sym_09a_nifti.zip..... done.\n"
     ]
    },
    {
     "name": "stdout",
     "output_type": "stream",
     "text": [
      "\n",
      "Dataset created in /Users/nikkibytes/nilearn_data/allen_rsn_2011\n",
      "\n",
      "Downloading data from http://mialab.mrn.org/data/hcp/ALL_HC_unthresholded_tmaps.nii ...\n"
     ]
    },
    {
     "name": "stderr",
     "output_type": "stream",
     "text": [
      "Downloaded 23039452 of 23039452 bytes (100.0%,    0.0s remaining) ...done. (2 seconds, 0 min)\n"
     ]
    },
    {
     "name": "stdout",
     "output_type": "stream",
     "text": [
      "Downloading data from http://mialab.mrn.org/data/hcp/RSN_HC_unthresholded_tmaps.nii ...\n"
     ]
    },
    {
     "name": "stderr",
     "output_type": "stream",
     "text": [
      "Downloaded 8601616 of 8601616 bytes (100.0%,    0.0s remaining) ...done. (1 seconds, 0 min)\n"
     ]
    },
    {
     "name": "stdout",
     "output_type": "stream",
     "text": [
      "Downloading data from http://mialab.mrn.org/data/hcp/rest_hcp_agg__component_ica_.nii ...\n"
     ]
    },
    {
     "name": "stderr",
     "output_type": "stream",
     "text": [
      "Downloaded 46078552 of 46078552 bytes (100.0%,    0.0s remaining) ...done. (5 seconds, 0 min)\n"
     ]
    },
    {
     "ename": "AttributeError",
     "evalue": "module 'nilearn.datasets' has no attribute 'fetch_atlas_pauli_2017'",
     "output_type": "error",
     "traceback": [
      "\u001b[0;31m---------------------------------------------------------------------------\u001b[0m",
      "\u001b[0;31mAttributeError\u001b[0m                            Traceback (most recent call last)",
      "\u001b[0;32m<ipython-input-1-756df0f8334b>\u001b[0m in \u001b[0;36m<module>\u001b[0;34m()\u001b[0m\n\u001b[1;32m     18\u001b[0m \u001b[0;34m\u001b[0m\u001b[0m\n\u001b[1;32m     19\u001b[0m \u001b[0;31m# Pauli subcortical atlas\u001b[0m\u001b[0;34m\u001b[0m\u001b[0;34m\u001b[0m\u001b[0;34m\u001b[0m\u001b[0m\n\u001b[0;32m---> 20\u001b[0;31m \u001b[0msubcortex\u001b[0m \u001b[0;34m=\u001b[0m \u001b[0mdatasets\u001b[0m\u001b[0;34m.\u001b[0m\u001b[0mfetch_atlas_pauli_2017\u001b[0m\u001b[0;34m(\u001b[0m\u001b[0;34m)\u001b[0m\u001b[0;34m\u001b[0m\u001b[0;34m\u001b[0m\u001b[0m\n\u001b[0m\u001b[1;32m     21\u001b[0m \u001b[0;34m\u001b[0m\u001b[0m\n\u001b[1;32m     22\u001b[0m \u001b[0;31m# Visualization\u001b[0m\u001b[0;34m\u001b[0m\u001b[0;34m\u001b[0m\u001b[0;34m\u001b[0m\u001b[0m\n",
      "\u001b[0;31mAttributeError\u001b[0m: module 'nilearn.datasets' has no attribute 'fetch_atlas_pauli_2017'"
     ]
    }
   ],
   "source": [
    "from nilearn import datasets\n",
    "\n",
    "# Harvard Oxford Atlasf\n",
    "harvard_oxford = datasets.fetch_atlas_harvard_oxford('cort-prob-2mm')\n",
    "harvard_oxford_sub = datasets.fetch_atlas_harvard_oxford('sub-prob-2mm')\n",
    "\n",
    "# Multi Subject Dictionary Learning Atlas\n",
    "msdl = datasets.fetch_atlas_msdl()\n",
    "\n",
    "# Smith ICA Atlas and Brain Maps 2009\n",
    "smith = datasets.fetch_atlas_smith_2009()\n",
    "\n",
    "# ICBM tissue probability\n",
    "icbm = datasets.fetch_icbm152_2009()\n",
    "\n",
    "# Allen RSN networks\n",
    "allen = datasets.fetch_atlas_allen_2011()\n",
    "\n",
    "# Pauli subcortical atlas\n",
    "subcortex = datasets.fetch_atlas_pauli_2017()\n",
    "\n",
    "# Visualization\n",
    "from nilearn import plotting"
   ]
  },
  {
   "cell_type": "code",
   "execution_count": null,
   "metadata": {},
   "outputs": [],
   "source": []
  }
 ],
 "metadata": {
  "kernelspec": {
   "display_name": "Python 3",
   "language": "python",
   "name": "python3"
  },
  "language_info": {
   "codemirror_mode": {
    "name": "ipython",
    "version": 3
   },
   "file_extension": ".py",
   "mimetype": "text/x-python",
   "name": "python",
   "nbconvert_exporter": "python",
   "pygments_lexer": "ipython3",
   "version": "3.6.7"
  }
 },
 "nbformat": 4,
 "nbformat_minor": 2
}
