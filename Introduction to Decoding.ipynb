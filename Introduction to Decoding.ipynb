{
 "cells": [
  {
   "cell_type": "markdown",
   "metadata": {},
   "source": [
    "<h1> An Introduction to Decoding </h1>\n",
    "\n",
    "<u>Loading and Preparing the Data</u>\n",
    "\n",
    "fMRI: using beta maps of a first-level analysis\n",
    "\tMost cognitive experiments have a more complex temporal structure with rich sequences of events. \n",
    "\n",
    "The standard approach to decoding consists in fitting a first-level GLM to retrieve one response map(a beta map) per trial -- sometimes known as “beta-series regressions”. These maps can then be input to the decoder, predicting the conditions associated to trial.\n",
    "\n",
    "<b>It is strongly recommended that you fit a first level to include an HRF model and isolate the responses from various confounds.</b>\n"
   ]
  },
  {
   "cell_type": "markdown",
   "metadata": {},
   "source": [
    "<u>Loading the Data into Nilearn</u>  \n",
    "  \n",
    "<ol>\n",
    "    <li>Start an environment: Launch IPython via “ipython -matplotlib” in a terminal, or use the Jupyter Notebook</li>     <li>Retrieve Data</li>\n",
    "    <li>Load behavioral labels: Behavioral information is often stored in a text file (.CSV), and must be loaded with the numpy.recfromcsv or pandas</li>\n",
    "    <li>Extracting the fMRI data: we then use the nilearn.input_data.NiftiMasker: we extract only the voxels on the mask of the ventral temporal cortex that comes with the data, applying the mask_vt mask the the 4D fMRI data. The resulting data is then a matrix with a shape that is (n_timepoints, n_voxels)</li>  \n",
    "    <li>Sample mask: Masking some of the time points may be useful to restrict a specific pair conditions.\n"
   ]
  },
  {
   "cell_type": "code",
   "execution_count": null,
   "metadata": {},
   "outputs": [],
   "source": []
  }
 ],
 "metadata": {
  "kernelspec": {
   "display_name": "Python 3",
   "language": "python",
   "name": "python3"
  },
  "language_info": {
   "codemirror_mode": {
    "name": "ipython",
    "version": 3
   },
   "file_extension": ".py",
   "mimetype": "text/x-python",
   "name": "python",
   "nbconvert_exporter": "python",
   "pygments_lexer": "ipython3",
   "version": "3.6.5"
  }
 },
 "nbformat": 4,
 "nbformat_minor": 2
}
